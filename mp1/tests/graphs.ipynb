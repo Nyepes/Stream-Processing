{
 "cells": [
  {
   "cell_type": "code",
   "execution_count": null,
   "metadata": {},
   "outputs": [],
   "source": [
    "import matplotlib.pyplot as plt\n",
    "import numpy as np"
   ]
  },
  {
   "cell_type": "markdown",
   "metadata": {},
   "source": [
    "# Frequent Latency (4 Machine 60 MB)"
   ]
  },
  {
   "cell_type": "code",
   "execution_count": null,
   "metadata": {},
   "outputs": [],
   "source": [
    "frequent_trials = np.array([1.326, 1.324, 1.519, 1.247, 1.231])"
   ]
  },
  {
   "cell_type": "markdown",
   "metadata": {},
   "source": [
    "# Medium Latency (4 Machine 60 MB)"
   ]
  },
  {
   "cell_type": "code",
   "execution_count": null,
   "metadata": {},
   "outputs": [],
   "source": [
    "medium_trials = np.array([0.495, 0.469, 0.483, 0.477, 0.476])"
   ]
  },
  {
   "cell_type": "markdown",
   "metadata": {},
   "source": [
    "# Rare Latency (4 Machine 60 MB)"
   ]
  },
  {
   "cell_type": "code",
   "execution_count": null,
   "metadata": {},
   "outputs": [],
   "source": [
    "rare_trials = np.array([0.143, 0.142, 0.150, 0.136, 0.137])"
   ]
  },
  {
   "cell_type": "markdown",
   "metadata": {},
   "source": [
    "# Regex Latency (4 Machine 60 MB)"
   ]
  },
  {
   "cell_type": "code",
   "execution_count": null,
   "metadata": {},
   "outputs": [],
   "source": [
    "regex_trials = np.array([0.235, 0.207, 0.261, 0.248, 0.252])"
   ]
  },
  {
   "cell_type": "markdown",
   "metadata": {},
   "source": [
    "# Bar Chart"
   ]
  },
  {
   "cell_type": "code",
   "execution_count": null,
   "metadata": {},
   "outputs": [
    {
     "ename": "",
     "evalue": "",
     "output_type": "error",
     "traceback": [
      "\u001b[1;31mRunning cells with 'Python 3.9.6' requires the ipykernel package.\n",
      "\u001b[1;31mRun the following command to install 'ipykernel' into the Python environment. \n",
      "\u001b[1;31mCommand: '/usr/bin/python3 -m pip install ipykernel -U --user --force-reinstall'"
     ]
    }
   ],
   "source": [
    "means = [frequent_trials.mean(), medium_trials.mean(), rare_trials.mean(), regex_trials.mean()]\n",
    "stds = [frequent_trials.std(), medium_trials.std(), rare_trials.std(), regex_trials.std()]\n",
    "\n",
    "categories = [\"FREQUENT\", \"MEDIUM\", \"RARE\", \"REGEX\"]\n",
    "x = np.arange(len(categories))  # the label locations\n",
    "\n",
    "fig, ax = plt.subplots()\n",
    "\n",
    "# Create bars\n",
    "bars = ax.bar(x, means, yerr=stds, capsize=5, color='lightblue', edgecolor='black')\n",
    "\n",
    "# Add labels and title\n",
    "ax.set_xlabel('Grep Pattern To Match')\n",
    "ax.set_ylabel('Query Latency')\n",
    "ax.set_title('Query Latency vs. Grep Pattern To Match')\n",
    "ax.set_xticks(x)\n",
    "ax.set_xticklabels(categories)"
   ]
  },
  {
   "cell_type": "code",
   "execution_count": null,
   "metadata": {},
   "outputs": [],
   "source": []
  }
 ],
 "metadata": {
  "kernelspec": {
   "display_name": "Python 3",
   "language": "python",
   "name": "python3"
  },
  "language_info": {
   "name": "python",
   "version": "3.9.18"
  }
 },
 "nbformat": 4,
 "nbformat_minor": 2
}
